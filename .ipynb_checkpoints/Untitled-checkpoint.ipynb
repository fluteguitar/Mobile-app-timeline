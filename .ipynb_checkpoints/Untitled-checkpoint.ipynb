{
 "cells": [
  {
   "cell_type": "code",
   "execution_count": 36,
   "metadata": {
    "collapsed": false
   },
   "outputs": [
    {
     "ename": "SyntaxError",
     "evalue": "invalid syntax (<ipython-input-36-9eafb60d989d>, line 150)",
     "output_type": "error",
     "traceback": [
      "\u001b[0;36m  File \u001b[0;32m\"<ipython-input-36-9eafb60d989d>\"\u001b[0;36m, line \u001b[0;32m150\u001b[0m\n\u001b[0;31m    tree = lxml.html.fromstring(resp)kj\u001b[0m\n\u001b[0m                                      ^\u001b[0m\n\u001b[0;31mSyntaxError\u001b[0m\u001b[0;31m:\u001b[0m invalid syntax\n"
     ]
    }
   ],
   "source": [
    "%load change-logs_ggplay.py\n",
    "#! /usr/bin/env python3\n",
    "__author__ = \"Toan Nguyen - fluteguitar@github\"\n",
    "__liscense__ = \"GPL\"\n",
    "__email__ = \"canhtoannguyen60@gmail.com\"\n",
    "__maintainer__ = \"Toan Nguyen\"\n",
    "__status__ = \"Production\"\n",
    "\n",
    "import os\n",
    "import datetime\n",
    "import urllib.request\n",
    "import urllib.error\n",
    "import urllib.parse\n",
    "import csv\n",
    "import codecs\n",
    "import lxml\n",
    "from lxml import html\n",
    "import yaml\n",
    "\n",
    "\n",
    "def convert_to_datetime_date(date):\n",
    "    \"\"\"Convert date to datetime.date\n",
    "\n",
    "    Params:\n",
    "        date (str):  \"January 22, 2017\"\n",
    "    Return:\n",
    "        (datetime.date): datetime.date(2017,1,22)\n",
    "\n",
    "    >>> convert_to_datetime_date(\"January 22, 2017\")\n",
    "    datetime.date(2017, 1, 22)\n",
    "    \"\"\"\n",
    "    date = date.split()\n",
    "    month_name = [\n",
    "        'January',\n",
    "        'February',\n",
    "        'March',\n",
    "        'April',\n",
    "        'May',\n",
    "        'June',\n",
    "        'July',\n",
    "        'August',\n",
    "        'September',\n",
    "        'October',\n",
    "        'November',\n",
    "        'December']\n",
    "    month = month_name.index(date[0]) + 1\n",
    "    date[1] = date[1][:-1]\n",
    "    return datetime.date(year=int(date[2]), month=month, day=int(date[1]))\n",
    "\n",
    "\n",
    "def start_request(url):\n",
    "    request = urllib.request.urlopen(url)\n",
    "    # process handle exception\n",
    "    response = request.read()\n",
    "    return response\n",
    "\n",
    "\n",
    "def log_data(version, date, change_log, database):\n",
    "    if os.path.exists(database):\n",
    "        mode = 'a'\n",
    "    else:\n",
    "        mode = 'w'\n",
    "    if change_log == '':\n",
    "        change_log = 'Rand'\n",
    "    fields = [\n",
    "        'ggplay',\n",
    "        date,\n",
    "        '1',\n",
    "        '1',\n",
    "        '1',\n",
    "        '1',\n",
    "        'Version',\n",
    "        'Rand',\n",
    "        version,\n",
    "        change_log]\n",
    "    fields_name = [\n",
    "        'Platform',\n",
    "        'Date',\n",
    "        'App ID',\n",
    "        'App Name',\n",
    "        'Publisher ID',\n",
    "        'Publisher Name',\n",
    "        'Update Type',\n",
    "        'Previous Value',\n",
    "        'New Value',\n",
    "        'Notes']\n",
    "\n",
    "    stream = open(database, mode)\n",
    "    writer = csv.writer(stream)\n",
    "    if mode == 'w':\n",
    "        writer.writerow(fields_name)\n",
    "    writer.writerow(fields)\n",
    "\n",
    "\n",
    "def format_change_log(log):\n",
    "    \"\"\"Reformat application news log to desired form.\n",
    "\n",
    "    \"\"\"\n",
    "    # print(log)\n",
    "    detele_char = [\"u'\", 'u\"', \"'\", '\"', \"<p>\",\n",
    "                   \"<br>\", \"</p>\", '-', '[', ']', \"</br>\"]\n",
    "    for char in detele_char:\n",
    "        log = log.replace(char, \"\")\n",
    "\n",
    "    f = codecs.open(\"temp.txt\", \"w\", \"utf-8\")\n",
    "    f.write(log)\n",
    "    f.close()\n",
    "\n",
    "    f = open(\"temp.txt\", \"r\")\n",
    "    log = \"\"\n",
    "    for line in f:\n",
    "        log = log + line\n",
    "\n",
    "    f.close()\n",
    "\n",
    "    #log = log.replace(\"\\n\", \" \")\n",
    "    unicode_logr = {\n",
    "        \"\\xc2\\xb7\": \"\\n-\",\n",
    "        \"\\xe2\\x80\\xa2\": \"\\n-\",\n",
    "        \"\\xe2\\x80\\x94\": \"\\n-\",\n",
    "        '\\xc3\\xa2\\xc2\\x80\\xc2\\xa2': \"-\",\n",
    "        '\\xc3\\xb0\\xc2\\x9f\\xc2\\x91\\xc2\\xbb': '',\n",
    "        '\\xc3\\x82\\xc2\\xa0': ' ',\n",
    "        '\\xc3\\xa2\\xc2\\x80\\xc2\\x94': ' ',\n",
    "        '\\xa0': ' '\n",
    "    }\n",
    "\n",
    "    # print log\n",
    "\n",
    "    for key in list(unicode_logr.keys()):\n",
    "        log = log.replace(key, unicode_logr[key])\n",
    "\n",
    "    return log\n",
    "\n",
    "    \n",
    "def process_response(resp, log_resp, start_date, database):\n",
    "    \"\"\"\n",
    "    Get all the app update activity from start_date.\n",
    "    \"\"\"\n",
    "\n",
    "    log_tree = lxml.html.fromstring(log_resp)\n",
    "    date = log_tree.xpath('//*[@id=\"body-content\"]/div/div/div[1]/div[4]/div/div[2]/div[1]/div[2]/text()')[0]\n",
    "    date = convert_to_datetime_date(date)\n",
    "    if date < start_date:\n",
    "        return\n",
    "    \n",
    "    change_log = \"\\n\".join(log_tree.xpath('//div[@class=\"recent-change\"]/text()'))\n",
    "    change_log = format_change_log(change_log)\n",
    "\n",
    "    tree = lxml.html.fromstring(resp)\n",
    "    version = tree.xpath('/html/body/div[1]/main/div/div[1]/div/div[2]/div[3]/table/tbody/tr[2]/td[3]/text()')\n",
    "    \n",
    "    log_data(version, date, change_log, database)\n",
    "\n",
    "    \n",
    "def get_params(index_file):\n",
    "    \"\"\"\n",
    "    Params:\n",
    "        index_file (string): index file name.\n",
    "\n",
    "    Returns:\n",
    "        (dictionary): parameters and values.\n",
    "\n",
    "    >>> params = get_params(\"index.yaml\")\n",
    "    >>> params['country']\n",
    "    'VN'\n",
    "    >>> params['list_name']\n",
    "    'topselling_free'\n",
    "    >>> params['cat_key']\n",
    "    'APPLICATION'\n",
    "    \"\"\"\n",
    "    stream = open(index_file, \"r\")\n",
    "    params = yaml.load(stream)\n",
    "    stream.close()\n",
    "\n",
    "    return params\n",
    "\n",
    "\n",
    "def scan_for_change(index_file):\n",
    "\n",
    "    params = get_params(index_file)['change_logs']\n",
    "\n",
    "    today = datetime.date.today()\n",
    "\n",
    "    start_date = today - datetime.timedelta(params['range_of_query'])\n",
    "\n",
    "    for app_info in list(params['apps_src_dest'].keys()):\n",
    "        print(\"Running: \" + app_info + \"\\n\")\n",
    "        versionlog_url = params['apps_src_dest'][app_info][0]\n",
    "        version_url = params['apps_src_dest'][app_info][1]\n",
    "        database = params['dir'] + params['apps_src_dest'][app_info][2]\n",
    "        log_resp = start_request(versionlog_url)\n",
    "        log_resp = log_resp.decode('utf-8')\n",
    "        resp = start_request(version_url)\n",
    "        resp = resp.decode('utf-8')\n",
    "        process_response(resp, log_resp, start_date, database)\n",
    "\n",
    "    print(\"Finish!!!!\")\n",
    "\n",
    "\n",
    "\n",
    "# if __name__ == \"__main__\":\n",
    "#     import doctest\n",
    "#     doctest.testmod()\n"
   ]
  },
  {
   "cell_type": "code",
   "execution_count": 33,
   "metadata": {
    "collapsed": false
   },
   "outputs": [],
   "source": [
    "params = get_params('index_ggplay.yaml')['change_logs']\n",
    "\n",
    "today = datetime.date.today()\n",
    "\n",
    "start_date = today - datetime.timedelta(params['range_of_query'])"
   ]
  },
  {
   "cell_type": "code",
   "execution_count": 34,
   "metadata": {
    "collapsed": false
   },
   "outputs": [
    {
     "data": {
      "text/plain": [
       "['https://play.google.com/store/apps/details?id=sg.bigo.live&hl=en',\n",
       " 'https://www.apptweak.com/applications/android/sg.bigo.live?country=vn',\n",
       " 'App_Annie_Store_Stats_TimeLine_Google Play_BIGO LIVE - Live Broadcasting.csv']"
      ]
     },
     "execution_count": 34,
     "metadata": {},
     "output_type": "execute_result"
    }
   ],
   "source": [
    "params['apps_src_dest']['BIGO']"
   ]
  },
  {
   "cell_type": "code",
   "execution_count": 35,
   "metadata": {
    "collapsed": false
   },
   "outputs": [
    {
     "name": "stdout",
     "output_type": "stream",
     "text": [
      "Running: Viber\n",
      "\n"
     ]
    },
    {
     "ename": "TypeError",
     "evalue": "process_response() takes 3 positional arguments but 4 were given",
     "output_type": "error",
     "traceback": [
      "\u001b[0;31m---------------------------------------------------------------------------\u001b[0m",
      "\u001b[0;31mTypeError\u001b[0m                                 Traceback (most recent call last)",
      "\u001b[0;32m<ipython-input-35-1fabd0d7d62c>\u001b[0m in \u001b[0;36m<module>\u001b[0;34m()\u001b[0m\n\u001b[1;32m      8\u001b[0m     \u001b[0mresp\u001b[0m \u001b[0;34m=\u001b[0m \u001b[0mstart_request\u001b[0m\u001b[0;34m(\u001b[0m\u001b[0mversion_url\u001b[0m\u001b[0;34m)\u001b[0m\u001b[0;34m\u001b[0m\u001b[0m\n\u001b[1;32m      9\u001b[0m     \u001b[0mresp\u001b[0m \u001b[0;34m=\u001b[0m \u001b[0mresp\u001b[0m\u001b[0;34m.\u001b[0m\u001b[0mdecode\u001b[0m\u001b[0;34m(\u001b[0m\u001b[0;34m'utf-8'\u001b[0m\u001b[0;34m)\u001b[0m\u001b[0;34m\u001b[0m\u001b[0m\n\u001b[0;32m---> 10\u001b[0;31m     \u001b[0mprocess_response\u001b[0m\u001b[0;34m(\u001b[0m\u001b[0mresp\u001b[0m\u001b[0;34m,\u001b[0m \u001b[0mlog_resp\u001b[0m\u001b[0;34m,\u001b[0m \u001b[0mstart_date\u001b[0m\u001b[0;34m,\u001b[0m \u001b[0mdatabase\u001b[0m\u001b[0;34m)\u001b[0m\u001b[0;34m\u001b[0m\u001b[0m\n\u001b[0m\u001b[1;32m     11\u001b[0m \u001b[0;34m\u001b[0m\u001b[0m\n\u001b[1;32m     12\u001b[0m \u001b[0mprint\u001b[0m\u001b[0;34m(\u001b[0m\u001b[0;34m\"Finish!!!!\"\u001b[0m\u001b[0;34m)\u001b[0m\u001b[0;34m\u001b[0m\u001b[0m\n",
      "\u001b[0;31mTypeError\u001b[0m: process_response() takes 3 positional arguments but 4 were given"
     ]
    }
   ],
   "source": [
    "for app_info in list(params['apps_src_dest'].keys()):\n",
    "    print(\"Running: \" + app_info + \"\\n\")\n",
    "    versionlog_url = params['apps_src_dest'][app_info][0]\n",
    "    version_url = params['apps_src_dest'][app_info][1]\n",
    "    database = params['dir'] + params['apps_src_dest'][app_info][2]\n",
    "    log_resp = start_request(versionlog_url)\n",
    "    log_resp = log_resp.decode('utf-8')\n",
    "    resp = start_request(version_url)\n",
    "    resp = resp.decode('utf-8')\n",
    "    process_response(resp, log_resp, start_date, database)\n",
    "\n",
    "print(\"Finish!!!!\")"
   ]
  },
  {
   "cell_type": "code",
   "execution_count": 24,
   "metadata": {
    "collapsed": false
   },
   "outputs": [],
   "source": [
    "tree = lxml.html.fromstring(resp.decode('utf-8'))"
   ]
  },
  {
   "cell_type": "code",
   "execution_count": 31,
   "metadata": {
    "collapsed": false
   },
   "outputs": [
    {
     "data": {
      "text/plain": [
       "'Whats New in WeChat 6.5.4'"
      ]
     },
     "execution_count": 31,
     "metadata": {},
     "output_type": "execute_result"
    }
   ],
   "source": [
    "logs = tree.xpath('//div[@class=\"recent-change\"]/text()')\n",
    "logs\n",
    "format_change_log(logs[0])"
   ]
  },
  {
   "cell_type": "code",
   "execution_count": 18,
   "metadata": {
    "collapsed": false
   },
   "outputs": [
    {
     "data": {
      "text/plain": [
       "'  100,000,000 - 500,000,000  '"
      ]
     },
     "execution_count": 18,
     "metadata": {},
     "output_type": "execute_result"
    }
   ],
   "source": [
    "tree.xpath('//*[@id=\"body-content\"]/div/div/div[1]/div[4]/div/div[2]/div[3]/div[2]/text()')[0]"
   ]
  },
  {
   "cell_type": "code",
   "execution_count": 19,
   "metadata": {
    "collapsed": false
   },
   "outputs": [
    {
     "data": {
      "text/plain": [
       "'January 24, 2017'"
      ]
     },
     "execution_count": 19,
     "metadata": {},
     "output_type": "execute_result"
    }
   ],
   "source": [
    "tree.xpath('//*[@id=\"body-content\"]/div/div/div[1]/div[4]/div/div[2]/div[1]/div[2]/text()')[0]"
   ]
  },
  {
   "cell_type": "code",
   "execution_count": 20,
   "metadata": {
    "collapsed": false
   },
   "outputs": [
    {
     "data": {
      "text/plain": [
       "[]"
      ]
     },
     "execution_count": 20,
     "metadata": {},
     "output_type": "execute_result"
    }
   ],
   "source": [
    "tree.xpath('//*[@id=\"bsap_1291153\"]/div[2]/div/div[1]/div[1]/div/h1/text()')"
   ]
  }
 ],
 "metadata": {
  "anaconda-cloud": {},
  "kernelspec": {
   "display_name": "Python [conda root]",
   "language": "python",
   "name": "conda-root-py"
  },
  "language_info": {
   "codemirror_mode": {
    "name": "ipython",
    "version": 3
   },
   "file_extension": ".py",
   "mimetype": "text/x-python",
   "name": "python",
   "nbconvert_exporter": "python",
   "pygments_lexer": "ipython3",
   "version": "3.5.2"
  }
 },
 "nbformat": 4,
 "nbformat_minor": 1
}
